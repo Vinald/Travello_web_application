{
 "cells": [
  {
   "cell_type": "code",
   "execution_count": 1,
   "id": "aa5055cf-8d03-4ced-9245-c3bff5e6ffb8",
   "metadata": {},
   "outputs": [],
   "source": [
    "import numpy as np"
   ]
  },
  {
   "cell_type": "code",
   "execution_count": 2,
   "id": "840dadf9-6184-425a-9940-a98596bd59b1",
   "metadata": {},
   "outputs": [],
   "source": [
    "samuel = np.array([73,67,43])"
   ]
  },
  {
   "cell_type": "code",
   "execution_count": 3,
   "id": "4837d156-678a-4e23-8fbc-b09e2e45cc3c",
   "metadata": {},
   "outputs": [
    {
     "data": {
      "text/plain": [
       "array([73, 67, 43])"
      ]
     },
     "execution_count": 3,
     "metadata": {},
     "output_type": "execute_result"
    }
   ],
   "source": [
    "sam = samuel\n",
    "sam"
   ]
  },
  {
   "cell_type": "code",
   "execution_count": 4,
   "id": "1e619ff3-a969-4b31-a0a5-082f0aaeb423",
   "metadata": {},
   "outputs": [
    {
     "data": {
      "text/plain": [
       "67"
      ]
     },
     "execution_count": 4,
     "metadata": {},
     "output_type": "execute_result"
    }
   ],
   "source": [
    "sam[1]"
   ]
  },
  {
   "cell_type": "code",
   "execution_count": 5,
   "id": "a0ea5515-d355-4bdf-9543-e18ff69a0b88",
   "metadata": {},
   "outputs": [
    {
     "data": {
      "text/plain": [
       "numpy.ndarray"
      ]
     },
     "execution_count": 5,
     "metadata": {},
     "output_type": "execute_result"
    }
   ],
   "source": [
    "type(sam)"
   ]
  },
  {
   "cell_type": "code",
   "execution_count": 6,
   "id": "31963860-f737-46af-89b6-797452d3472d",
   "metadata": {},
   "outputs": [
    {
     "data": {
      "text/plain": [
       "183"
      ]
     },
     "execution_count": 6,
     "metadata": {},
     "output_type": "execute_result"
    }
   ],
   "source": [
    "sam.sum()"
   ]
  },
  {
   "cell_type": "code",
   "execution_count": 7,
   "id": "1ba8be20-7793-442c-8076-f71deaf1b28b",
   "metadata": {},
   "outputs": [
    {
     "data": {
      "text/plain": [
       "array([730, 670, 430])"
      ]
     },
     "execution_count": 7,
     "metadata": {},
     "output_type": "execute_result"
    }
   ],
   "source": [
    "sam * 10"
   ]
  },
  {
   "cell_type": "code",
   "execution_count": 8,
   "id": "3c5951af-c21d-4ce6-b720-3c7cdda17b00",
   "metadata": {},
   "outputs": [
    {
     "data": {
      "text/plain": [
       "array([53, 47, 23])"
      ]
     },
     "execution_count": 8,
     "metadata": {},
     "output_type": "execute_result"
    }
   ],
   "source": [
    "sam - 20"
   ]
  },
  {
   "cell_type": "code",
   "execution_count": 9,
   "id": "5e05da69-fd86-4532-8df8-031a5be15a98",
   "metadata": {},
   "outputs": [
    {
     "data": {
      "text/plain": [
       "array([73, 67, 43])"
      ]
     },
     "execution_count": 9,
     "metadata": {},
     "output_type": "execute_result"
    }
   ],
   "source": [
    "sam"
   ]
  },
  {
   "cell_type": "code",
   "execution_count": 10,
   "id": "0c42ef54-dbdc-47df-8df1-60eef28fabd0",
   "metadata": {},
   "outputs": [],
   "source": [
    "arr1 = list(range(1000000))\n",
    "arr2 = list(range(1000000,2000000))"
   ]
  },
  {
   "cell_type": "code",
   "execution_count": 11,
   "id": "5901f345-2d9a-46a9-893f-2a815b7897a1",
   "metadata": {},
   "outputs": [],
   "source": [
    "arr1_np = np.array(arr1)\n",
    "arr2_np = np.array(arr2)"
   ]
  },
  {
   "cell_type": "code",
   "execution_count": 15,
   "id": "68b65eee-ef28-4c92-ad9f-9052eb0e1a4f",
   "metadata": {},
   "outputs": [
    {
     "name": "stdout",
     "output_type": "stream",
     "text": [
      "CPU times: user 615 ms, sys: 0 ns, total: 615 ms\n",
      "Wall time: 613 ms\n"
     ]
    },
    {
     "data": {
      "text/plain": [
       "833332333333500000"
      ]
     },
     "execution_count": 15,
     "metadata": {},
     "output_type": "execute_result"
    }
   ],
   "source": [
    "%%time\n",
    "result = 0\n",
    "for x,y in zip(arr1, arr2):\n",
    "    result += x*y\n",
    "result"
   ]
  },
  {
   "cell_type": "code",
   "execution_count": 16,
   "id": "8e8eb829-585d-47a3-8562-4ca5fd9ee6ec",
   "metadata": {},
   "outputs": [
    {
     "name": "stdout",
     "output_type": "stream",
     "text": [
      "CPU times: user 6.53 ms, sys: 216 µs, total: 6.75 ms\n",
      "Wall time: 5.71 ms\n"
     ]
    },
    {
     "data": {
      "text/plain": [
       "833332333333500000"
      ]
     },
     "execution_count": 16,
     "metadata": {},
     "output_type": "execute_result"
    }
   ],
   "source": [
    "%%time \n",
    "np.dot(arr1_np, arr2_np)"
   ]
  },
  {
   "cell_type": "code",
   "execution_count": 20,
   "id": "cb3d6854-0443-47ac-948e-bba149eb36bf",
   "metadata": {},
   "outputs": [
    {
     "data": {
      "text/plain": [
       "array([[1, 2, 3],\n",
       "       [4, 5, 6]])"
      ]
     },
     "execution_count": 20,
     "metadata": {},
     "output_type": "execute_result"
    }
   ],
   "source": [
    "numbers = np.array([[1,2,3],\n",
    "                    [4,5,6]])\n",
    "numbers"
   ]
  },
  {
   "cell_type": "code",
   "execution_count": 21,
   "id": "3c8361b4-3316-4c83-8d7f-3d414dc7c58a",
   "metadata": {},
   "outputs": [
    {
     "data": {
      "text/plain": [
       "(2, 3)"
      ]
     },
     "execution_count": 21,
     "metadata": {},
     "output_type": "execute_result"
    }
   ],
   "source": [
    "numbers.shape"
   ]
  },
  {
   "cell_type": "code",
   "execution_count": 22,
   "id": "30a4d1f4-3bbb-4760-bb1a-924b42dab105",
   "metadata": {},
   "outputs": [
    {
     "data": {
      "text/plain": [
       "array([[1, 2],\n",
       "       [3, 4],\n",
       "       [5, 6]])"
      ]
     },
     "execution_count": 22,
     "metadata": {},
     "output_type": "execute_result"
    }
   ],
   "source": [
    "numbers.reshape(3,2)"
   ]
  },
  {
   "cell_type": "raw",
   "id": "ec7a92fe-06b2-4853-85f0-d7f9747bdda5",
   "metadata": {},
   "source": [
    " "
   ]
  }
 ],
 "metadata": {
  "kernelspec": {
   "display_name": "Python 3 (ipykernel)",
   "language": "python",
   "name": "python3"
  },
  "language_info": {
   "codemirror_mode": {
    "name": "ipython",
    "version": 3
   },
   "file_extension": ".py",
   "mimetype": "text/x-python",
   "name": "python",
   "nbconvert_exporter": "python",
   "pygments_lexer": "ipython3",
   "version": "3.11.6"
  }
 },
 "nbformat": 4,
 "nbformat_minor": 5
}
